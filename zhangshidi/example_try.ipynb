{
 "cells": [
  {
   "cell_type": "raw",
   "id": "35639cee",
   "metadata": {
    "pycharm": {
     "name": ""
    }
   },
   "source": [
    "from gym_grasper.controller.MujocoController import MJ_Controller\n",
    "controller = MJ_Controller()\n",
    "controller.show_model_info()\n",
    "controller.move_ee([0.0, -0.6, 0.95], plot=True, marker=True)\n",
    "controller.move_ee([0.0, -0.6, 0.895])"
   ]
  },
  {
   "cell_type": "code",
   "execution_count": null,
   "id": "159efa06",
   "metadata": {},
   "outputs": [],
   "source": []
  }
 ],
 "metadata": {
  "kernelspec": {
   "display_name": "Python 3 (ipykernel)",
   "language": "python",
   "name": "python3"
  },
  "language_info": {
   "codemirror_mode": {
    "name": "ipython",
    "version": 3
   },
   "file_extension": ".py",
   "mimetype": "text/x-python",
   "name": "python",
   "nbconvert_exporter": "python",
   "pygments_lexer": "ipython3",
   "version": "3.8.16"
  }
 },
 "nbformat": 4,
 "nbformat_minor": 5
}
